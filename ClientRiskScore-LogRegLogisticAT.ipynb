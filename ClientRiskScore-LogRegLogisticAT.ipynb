{
 "cells": [
  {
   "cell_type": "markdown",
   "metadata": {},
   "source": [
    "#### Import libraries"
   ]
  },
  {
   "cell_type": "code",
   "execution_count": 43,
   "metadata": {},
   "outputs": [],
   "source": [
    "from sklearn import preprocessing\n",
    "from sklearn.preprocessing import OneHotEncoder\n",
    "from sklearn.preprocessing import StandardScaler\n",
    "\n",
    "from sklearn.model_selection import train_test_split \n",
    "from sklearn.pipeline import Pipeline\n",
    "from sklearn import linear_model\n",
    "\n",
    "from sklearn.metrics import recall_score, precision_score, f1_score, accuracy_score, roc_auc_score, roc_curve, classification_report, confusion_matrix, ConfusionMatrixDisplay\n",
    "\n",
    "import matplotlib.pyplot as plt\n",
    "import pandas as pd\n",
    "import seaborn as sb"
   ]
  },
  {
   "cell_type": "markdown",
   "metadata": {},
   "source": [
    "####  Load data"
   ]
  },
  {
   "cell_type": "code",
   "execution_count": 44,
   "metadata": {},
   "outputs": [
    {
     "data": {
      "text/html": [
       "<div>\n",
       "<style scoped>\n",
       "    .dataframe tbody tr th:only-of-type {\n",
       "        vertical-align: middle;\n",
       "    }\n",
       "\n",
       "    .dataframe tbody tr th {\n",
       "        vertical-align: top;\n",
       "    }\n",
       "\n",
       "    .dataframe thead th {\n",
       "        text-align: right;\n",
       "    }\n",
       "</style>\n",
       "<table border=\"1\" class=\"dataframe\">\n",
       "  <thead>\n",
       "    <tr style=\"text-align: right;\">\n",
       "      <th></th>\n",
       "      <th>Age</th>\n",
       "      <th>HUDEthnicity</th>\n",
       "      <th>HUDRace</th>\n",
       "      <th>education</th>\n",
       "      <th>Alcohol Abuse</th>\n",
       "      <th>Chronic Health Condition</th>\n",
       "      <th>CountOfDisablingConditions</th>\n",
       "      <th>Developmental Disability</th>\n",
       "      <th>DisablingCondition</th>\n",
       "      <th>Drug Abuse</th>\n",
       "      <th>Felony Conviction</th>\n",
       "      <th>History of Foster Care</th>\n",
       "      <th>HIV/AIDS</th>\n",
       "      <th>Mental Health</th>\n",
       "      <th>Other</th>\n",
       "      <th>Physical Disability</th>\n",
       "      <th>ScoreTotal</th>\n",
       "    </tr>\n",
       "  </thead>\n",
       "  <tbody>\n",
       "    <tr>\n",
       "      <th>0</th>\n",
       "      <td>63.0</td>\n",
       "      <td>O</td>\n",
       "      <td>C</td>\n",
       "      <td>1.0</td>\n",
       "      <td>1.0</td>\n",
       "      <td>1.0</td>\n",
       "      <td>5.0</td>\n",
       "      <td>NaN</td>\n",
       "      <td>1.0</td>\n",
       "      <td>1.0</td>\n",
       "      <td>NaN</td>\n",
       "      <td>NaN</td>\n",
       "      <td>NaN</td>\n",
       "      <td>1.0</td>\n",
       "      <td>NaN</td>\n",
       "      <td>1.0</td>\n",
       "      <td>4</td>\n",
       "    </tr>\n",
       "    <tr>\n",
       "      <th>1</th>\n",
       "      <td>68.0</td>\n",
       "      <td>O</td>\n",
       "      <td>C</td>\n",
       "      <td>NaN</td>\n",
       "      <td>NaN</td>\n",
       "      <td>1.0</td>\n",
       "      <td>2.0</td>\n",
       "      <td>NaN</td>\n",
       "      <td>1.0</td>\n",
       "      <td>1.0</td>\n",
       "      <td>NaN</td>\n",
       "      <td>NaN</td>\n",
       "      <td>NaN</td>\n",
       "      <td>NaN</td>\n",
       "      <td>NaN</td>\n",
       "      <td>NaN</td>\n",
       "      <td>12</td>\n",
       "    </tr>\n",
       "    <tr>\n",
       "      <th>2</th>\n",
       "      <td>59.0</td>\n",
       "      <td>O</td>\n",
       "      <td>C</td>\n",
       "      <td>NaN</td>\n",
       "      <td>1.0</td>\n",
       "      <td>1.0</td>\n",
       "      <td>3.0</td>\n",
       "      <td>NaN</td>\n",
       "      <td>1.0</td>\n",
       "      <td>NaN</td>\n",
       "      <td>1.0</td>\n",
       "      <td>NaN</td>\n",
       "      <td>NaN</td>\n",
       "      <td>NaN</td>\n",
       "      <td>NaN</td>\n",
       "      <td>1.0</td>\n",
       "      <td>6</td>\n",
       "    </tr>\n",
       "    <tr>\n",
       "      <th>3</th>\n",
       "      <td>49.0</td>\n",
       "      <td>O</td>\n",
       "      <td>C</td>\n",
       "      <td>NaN</td>\n",
       "      <td>1.0</td>\n",
       "      <td>1.0</td>\n",
       "      <td>6.0</td>\n",
       "      <td>1.0</td>\n",
       "      <td>1.0</td>\n",
       "      <td>NaN</td>\n",
       "      <td>1.0</td>\n",
       "      <td>1.0</td>\n",
       "      <td>1.0</td>\n",
       "      <td>1.0</td>\n",
       "      <td>NaN</td>\n",
       "      <td>1.0</td>\n",
       "      <td>15</td>\n",
       "    </tr>\n",
       "    <tr>\n",
       "      <th>4</th>\n",
       "      <td>63.0</td>\n",
       "      <td>O</td>\n",
       "      <td>NaN</td>\n",
       "      <td>NaN</td>\n",
       "      <td>NaN</td>\n",
       "      <td>1.0</td>\n",
       "      <td>4.0</td>\n",
       "      <td>NaN</td>\n",
       "      <td>1.0</td>\n",
       "      <td>1.0</td>\n",
       "      <td>1.0</td>\n",
       "      <td>NaN</td>\n",
       "      <td>NaN</td>\n",
       "      <td>1.0</td>\n",
       "      <td>NaN</td>\n",
       "      <td>1.0</td>\n",
       "      <td>13</td>\n",
       "    </tr>\n",
       "  </tbody>\n",
       "</table>\n",
       "</div>"
      ],
      "text/plain": [
       "    Age HUDEthnicity HUDRace  education  Alcohol Abuse  \\\n",
       "0  63.0            O       C        1.0            1.0   \n",
       "1  68.0            O       C        NaN            NaN   \n",
       "2  59.0            O       C        NaN            1.0   \n",
       "3  49.0            O       C        NaN            1.0   \n",
       "4  63.0            O     NaN        NaN            NaN   \n",
       "\n",
       "   Chronic Health Condition  CountOfDisablingConditions  \\\n",
       "0                       1.0                         5.0   \n",
       "1                       1.0                         2.0   \n",
       "2                       1.0                         3.0   \n",
       "3                       1.0                         6.0   \n",
       "4                       1.0                         4.0   \n",
       "\n",
       "   Developmental Disability  DisablingCondition  Drug Abuse  \\\n",
       "0                       NaN                 1.0         1.0   \n",
       "1                       NaN                 1.0         1.0   \n",
       "2                       NaN                 1.0         NaN   \n",
       "3                       1.0                 1.0         NaN   \n",
       "4                       NaN                 1.0         1.0   \n",
       "\n",
       "   Felony Conviction  History of Foster Care  HIV/AIDS  Mental Health  Other  \\\n",
       "0                NaN                     NaN       NaN            1.0    NaN   \n",
       "1                NaN                     NaN       NaN            NaN    NaN   \n",
       "2                1.0                     NaN       NaN            NaN    NaN   \n",
       "3                1.0                     1.0       1.0            1.0    NaN   \n",
       "4                1.0                     NaN       NaN            1.0    NaN   \n",
       "\n",
       "   Physical Disability  ScoreTotal  \n",
       "0                  1.0           4  \n",
       "1                  NaN          12  \n",
       "2                  1.0           6  \n",
       "3                  1.0          15  \n",
       "4                  1.0          13  "
      ]
     },
     "execution_count": 44,
     "metadata": {},
     "output_type": "execute_result"
    }
   ],
   "source": [
    "df = pd.read_csv('ClientTrackExport-disabilities7.csv')\n",
    "df.head()"
   ]
  },
  {
   "cell_type": "markdown",
   "metadata": {},
   "source": [
    "#### Extract X and y"
   ]
  },
  {
   "cell_type": "code",
   "execution_count": 45,
   "metadata": {},
   "outputs": [],
   "source": [
    "X = df.iloc[:, :-1]\n",
    "y = df.iloc[:, -1]"
   ]
  },
  {
   "cell_type": "markdown",
   "metadata": {},
   "source": [
    "#### Convert categorical data to numerical using one-hot encoder"
   ]
  },
  {
   "cell_type": "code",
   "execution_count": 46,
   "metadata": {},
   "outputs": [
    {
     "data": {
      "text/html": [
       "<div>\n",
       "<style scoped>\n",
       "    .dataframe tbody tr th:only-of-type {\n",
       "        vertical-align: middle;\n",
       "    }\n",
       "\n",
       "    .dataframe tbody tr th {\n",
       "        vertical-align: top;\n",
       "    }\n",
       "\n",
       "    .dataframe thead th {\n",
       "        text-align: right;\n",
       "    }\n",
       "</style>\n",
       "<table border=\"1\" class=\"dataframe\">\n",
       "  <thead>\n",
       "    <tr style=\"text-align: right;\">\n",
       "      <th></th>\n",
       "      <th>x0_8</th>\n",
       "      <th>x0_9</th>\n",
       "      <th>x0_99</th>\n",
       "      <th>x0_H</th>\n",
       "      <th>x0_O</th>\n",
       "    </tr>\n",
       "  </thead>\n",
       "  <tbody>\n",
       "    <tr>\n",
       "      <th>0</th>\n",
       "      <td>0.0</td>\n",
       "      <td>0.0</td>\n",
       "      <td>0.0</td>\n",
       "      <td>0.0</td>\n",
       "      <td>1.0</td>\n",
       "    </tr>\n",
       "    <tr>\n",
       "      <th>1</th>\n",
       "      <td>0.0</td>\n",
       "      <td>0.0</td>\n",
       "      <td>0.0</td>\n",
       "      <td>0.0</td>\n",
       "      <td>1.0</td>\n",
       "    </tr>\n",
       "    <tr>\n",
       "      <th>2</th>\n",
       "      <td>0.0</td>\n",
       "      <td>0.0</td>\n",
       "      <td>0.0</td>\n",
       "      <td>0.0</td>\n",
       "      <td>1.0</td>\n",
       "    </tr>\n",
       "    <tr>\n",
       "      <th>3</th>\n",
       "      <td>0.0</td>\n",
       "      <td>0.0</td>\n",
       "      <td>0.0</td>\n",
       "      <td>0.0</td>\n",
       "      <td>1.0</td>\n",
       "    </tr>\n",
       "    <tr>\n",
       "      <th>4</th>\n",
       "      <td>0.0</td>\n",
       "      <td>0.0</td>\n",
       "      <td>0.0</td>\n",
       "      <td>0.0</td>\n",
       "      <td>1.0</td>\n",
       "    </tr>\n",
       "  </tbody>\n",
       "</table>\n",
       "</div>"
      ],
      "text/plain": [
       "   x0_8  x0_9  x0_99  x0_H  x0_O\n",
       "0   0.0   0.0    0.0   0.0   1.0\n",
       "1   0.0   0.0    0.0   0.0   1.0\n",
       "2   0.0   0.0    0.0   0.0   1.0\n",
       "3   0.0   0.0    0.0   0.0   1.0\n",
       "4   0.0   0.0    0.0   0.0   1.0"
      ]
     },
     "execution_count": 46,
     "metadata": {},
     "output_type": "execute_result"
    }
   ],
   "source": [
    "ohe = OneHotEncoder()\n",
    "\n",
    "##HUDEthnicity data\n",
    "ethnicity = X.fillna('NA').iloc[:, [1]].values  \n",
    "ethnicity_data = ohe.fit_transform(ethnicity).toarray()\n",
    "ethnicity_df = pd.DataFrame(ethnicity_data)\n",
    "ethnicity_df.columns = ohe.get_feature_names()\n",
    "ethnicity_df.head()"
   ]
  },
  {
   "cell_type": "code",
   "execution_count": 47,
   "metadata": {},
   "outputs": [
    {
     "data": {
      "text/html": [
       "<div>\n",
       "<style scoped>\n",
       "    .dataframe tbody tr th:only-of-type {\n",
       "        vertical-align: middle;\n",
       "    }\n",
       "\n",
       "    .dataframe tbody tr th {\n",
       "        vertical-align: top;\n",
       "    }\n",
       "\n",
       "    .dataframe thead th {\n",
       "        text-align: right;\n",
       "    }\n",
       "</style>\n",
       "<table border=\"1\" class=\"dataframe\">\n",
       "  <thead>\n",
       "    <tr style=\"text-align: right;\">\n",
       "      <th></th>\n",
       "      <th>x0_A</th>\n",
       "      <th>x0_B</th>\n",
       "      <th>x0_C</th>\n",
       "      <th>x0_D</th>\n",
       "      <th>x0_E</th>\n",
       "      <th>x0_F</th>\n",
       "      <th>x0_H</th>\n",
       "      <th>x0_I</th>\n",
       "      <th>x0_J</th>\n",
       "      <th>x0_NA</th>\n",
       "    </tr>\n",
       "  </thead>\n",
       "  <tbody>\n",
       "    <tr>\n",
       "      <th>0</th>\n",
       "      <td>0.0</td>\n",
       "      <td>0.0</td>\n",
       "      <td>1.0</td>\n",
       "      <td>0.0</td>\n",
       "      <td>0.0</td>\n",
       "      <td>0.0</td>\n",
       "      <td>0.0</td>\n",
       "      <td>0.0</td>\n",
       "      <td>0.0</td>\n",
       "      <td>0.0</td>\n",
       "    </tr>\n",
       "    <tr>\n",
       "      <th>1</th>\n",
       "      <td>0.0</td>\n",
       "      <td>0.0</td>\n",
       "      <td>1.0</td>\n",
       "      <td>0.0</td>\n",
       "      <td>0.0</td>\n",
       "      <td>0.0</td>\n",
       "      <td>0.0</td>\n",
       "      <td>0.0</td>\n",
       "      <td>0.0</td>\n",
       "      <td>0.0</td>\n",
       "    </tr>\n",
       "    <tr>\n",
       "      <th>2</th>\n",
       "      <td>0.0</td>\n",
       "      <td>0.0</td>\n",
       "      <td>1.0</td>\n",
       "      <td>0.0</td>\n",
       "      <td>0.0</td>\n",
       "      <td>0.0</td>\n",
       "      <td>0.0</td>\n",
       "      <td>0.0</td>\n",
       "      <td>0.0</td>\n",
       "      <td>0.0</td>\n",
       "    </tr>\n",
       "    <tr>\n",
       "      <th>3</th>\n",
       "      <td>0.0</td>\n",
       "      <td>0.0</td>\n",
       "      <td>1.0</td>\n",
       "      <td>0.0</td>\n",
       "      <td>0.0</td>\n",
       "      <td>0.0</td>\n",
       "      <td>0.0</td>\n",
       "      <td>0.0</td>\n",
       "      <td>0.0</td>\n",
       "      <td>0.0</td>\n",
       "    </tr>\n",
       "    <tr>\n",
       "      <th>4</th>\n",
       "      <td>0.0</td>\n",
       "      <td>0.0</td>\n",
       "      <td>0.0</td>\n",
       "      <td>0.0</td>\n",
       "      <td>0.0</td>\n",
       "      <td>0.0</td>\n",
       "      <td>0.0</td>\n",
       "      <td>0.0</td>\n",
       "      <td>0.0</td>\n",
       "      <td>1.0</td>\n",
       "    </tr>\n",
       "  </tbody>\n",
       "</table>\n",
       "</div>"
      ],
      "text/plain": [
       "   x0_A  x0_B  x0_C  x0_D  x0_E  x0_F  x0_H  x0_I  x0_J  x0_NA\n",
       "0   0.0   0.0   1.0   0.0   0.0   0.0   0.0   0.0   0.0    0.0\n",
       "1   0.0   0.0   1.0   0.0   0.0   0.0   0.0   0.0   0.0    0.0\n",
       "2   0.0   0.0   1.0   0.0   0.0   0.0   0.0   0.0   0.0    0.0\n",
       "3   0.0   0.0   1.0   0.0   0.0   0.0   0.0   0.0   0.0    0.0\n",
       "4   0.0   0.0   0.0   0.0   0.0   0.0   0.0   0.0   0.0    1.0"
      ]
     },
     "execution_count": 47,
     "metadata": {},
     "output_type": "execute_result"
    }
   ],
   "source": [
    "##HUDRace data\n",
    "race = X.fillna('NA').iloc[:, [2]].values  \n",
    "race_data = ohe.fit_transform(race).toarray()\n",
    "race_df = pd.DataFrame(race_data)\n",
    "race_df.columns = ohe.get_feature_names()\n",
    "race_df.head()"
   ]
  },
  {
   "cell_type": "markdown",
   "metadata": {},
   "source": [
    "#### Scale all numeric data in rest of the columns of X"
   ]
  },
  {
   "cell_type": "code",
   "execution_count": 48,
   "metadata": {},
   "outputs": [],
   "source": [
    "numeric_data = X.fillna(0).iloc[:, [0,3,4,5,6,7,8,9,10,11,12,13,14,15]].values\n",
    "numeric_df = pd.DataFrame(numeric_data, dtype=object)\n",
    "numeric_df.columns = ['Age', 'Education', 'Alcohol Abuse', 'Chronic Health Condition', 'CountOfDisablingConditions',\n",
    "                      'Developmental Disability', 'DisablingCondition', 'Drug Abuse', 'Felony Conviction', \n",
    "                      'History of Foster Care', 'HIV/AIDS', 'Mental Health', 'Other', 'Physical Disability' ]\n",
    "scaler = StandardScaler()\n",
    "numeric_df = scaler.fit_transform(numeric_df)\n",
    "numeric_df = pd.DataFrame(numeric_df)"
   ]
  },
  {
   "cell_type": "markdown",
   "metadata": {},
   "source": [
    "#### Combine all X data into one frame"
   ]
  },
  {
   "cell_type": "code",
   "execution_count": 49,
   "metadata": {},
   "outputs": [
    {
     "data": {
      "text/html": [
       "<div>\n",
       "<style scoped>\n",
       "    .dataframe tbody tr th:only-of-type {\n",
       "        vertical-align: middle;\n",
       "    }\n",
       "\n",
       "    .dataframe tbody tr th {\n",
       "        vertical-align: top;\n",
       "    }\n",
       "\n",
       "    .dataframe thead th {\n",
       "        text-align: right;\n",
       "    }\n",
       "</style>\n",
       "<table border=\"1\" class=\"dataframe\">\n",
       "  <thead>\n",
       "    <tr style=\"text-align: right;\">\n",
       "      <th></th>\n",
       "      <th>x0_8</th>\n",
       "      <th>x0_9</th>\n",
       "      <th>x0_99</th>\n",
       "      <th>x0_H</th>\n",
       "      <th>x0_O</th>\n",
       "      <th>0</th>\n",
       "      <th>1</th>\n",
       "      <th>2</th>\n",
       "      <th>3</th>\n",
       "      <th>4</th>\n",
       "      <th>5</th>\n",
       "      <th>6</th>\n",
       "      <th>7</th>\n",
       "      <th>8</th>\n",
       "      <th>9</th>\n",
       "      <th>10</th>\n",
       "      <th>11</th>\n",
       "      <th>12</th>\n",
       "      <th>13</th>\n",
       "    </tr>\n",
       "  </thead>\n",
       "  <tbody>\n",
       "    <tr>\n",
       "      <th>0</th>\n",
       "      <td>0.0</td>\n",
       "      <td>0.0</td>\n",
       "      <td>0.0</td>\n",
       "      <td>0.0</td>\n",
       "      <td>1.0</td>\n",
       "      <td>0.998064</td>\n",
       "      <td>2.009901</td>\n",
       "      <td>0.926680</td>\n",
       "      <td>0.585819</td>\n",
       "      <td>0.758832</td>\n",
       "      <td>-0.546536</td>\n",
       "      <td>0.266903</td>\n",
       "      <td>0.872992</td>\n",
       "      <td>-1.240190</td>\n",
       "      <td>-0.429923</td>\n",
       "      <td>-0.201452</td>\n",
       "      <td>0.540361</td>\n",
       "      <td>-0.253764</td>\n",
       "      <td>1.038750</td>\n",
       "    </tr>\n",
       "    <tr>\n",
       "      <th>1</th>\n",
       "      <td>0.0</td>\n",
       "      <td>0.0</td>\n",
       "      <td>0.0</td>\n",
       "      <td>0.0</td>\n",
       "      <td>1.0</td>\n",
       "      <td>1.388558</td>\n",
       "      <td>-0.151283</td>\n",
       "      <td>-1.079121</td>\n",
       "      <td>0.585819</td>\n",
       "      <td>-0.846030</td>\n",
       "      <td>-0.546536</td>\n",
       "      <td>0.266903</td>\n",
       "      <td>0.872992</td>\n",
       "      <td>-1.240190</td>\n",
       "      <td>-0.429923</td>\n",
       "      <td>-0.201452</td>\n",
       "      <td>-1.850616</td>\n",
       "      <td>-0.253764</td>\n",
       "      <td>-0.962695</td>\n",
       "    </tr>\n",
       "    <tr>\n",
       "      <th>2</th>\n",
       "      <td>0.0</td>\n",
       "      <td>0.0</td>\n",
       "      <td>0.0</td>\n",
       "      <td>0.0</td>\n",
       "      <td>1.0</td>\n",
       "      <td>0.685669</td>\n",
       "      <td>-0.151283</td>\n",
       "      <td>0.926680</td>\n",
       "      <td>0.585819</td>\n",
       "      <td>-0.311076</td>\n",
       "      <td>-0.546536</td>\n",
       "      <td>0.266903</td>\n",
       "      <td>-1.145486</td>\n",
       "      <td>0.806328</td>\n",
       "      <td>-0.429923</td>\n",
       "      <td>-0.201452</td>\n",
       "      <td>-1.850616</td>\n",
       "      <td>-0.253764</td>\n",
       "      <td>1.038750</td>\n",
       "    </tr>\n",
       "    <tr>\n",
       "      <th>3</th>\n",
       "      <td>0.0</td>\n",
       "      <td>0.0</td>\n",
       "      <td>0.0</td>\n",
       "      <td>0.0</td>\n",
       "      <td>1.0</td>\n",
       "      <td>-0.095320</td>\n",
       "      <td>-0.151283</td>\n",
       "      <td>0.926680</td>\n",
       "      <td>0.585819</td>\n",
       "      <td>1.293786</td>\n",
       "      <td>1.829707</td>\n",
       "      <td>0.266903</td>\n",
       "      <td>-1.145486</td>\n",
       "      <td>0.806328</td>\n",
       "      <td>2.325996</td>\n",
       "      <td>4.963973</td>\n",
       "      <td>0.540361</td>\n",
       "      <td>-0.253764</td>\n",
       "      <td>1.038750</td>\n",
       "    </tr>\n",
       "    <tr>\n",
       "      <th>4</th>\n",
       "      <td>0.0</td>\n",
       "      <td>0.0</td>\n",
       "      <td>0.0</td>\n",
       "      <td>0.0</td>\n",
       "      <td>1.0</td>\n",
       "      <td>0.998064</td>\n",
       "      <td>-0.151283</td>\n",
       "      <td>-1.079121</td>\n",
       "      <td>0.585819</td>\n",
       "      <td>0.223878</td>\n",
       "      <td>-0.546536</td>\n",
       "      <td>0.266903</td>\n",
       "      <td>0.872992</td>\n",
       "      <td>0.806328</td>\n",
       "      <td>-0.429923</td>\n",
       "      <td>-0.201452</td>\n",
       "      <td>0.540361</td>\n",
       "      <td>-0.253764</td>\n",
       "      <td>1.038750</td>\n",
       "    </tr>\n",
       "  </tbody>\n",
       "</table>\n",
       "</div>"
      ],
      "text/plain": [
       "   x0_8  x0_9  x0_99  x0_H  x0_O         0         1         2         3  \\\n",
       "0   0.0   0.0    0.0   0.0   1.0  0.998064  2.009901  0.926680  0.585819   \n",
       "1   0.0   0.0    0.0   0.0   1.0  1.388558 -0.151283 -1.079121  0.585819   \n",
       "2   0.0   0.0    0.0   0.0   1.0  0.685669 -0.151283  0.926680  0.585819   \n",
       "3   0.0   0.0    0.0   0.0   1.0 -0.095320 -0.151283  0.926680  0.585819   \n",
       "4   0.0   0.0    0.0   0.0   1.0  0.998064 -0.151283 -1.079121  0.585819   \n",
       "\n",
       "          4         5         6         7         8         9        10  \\\n",
       "0  0.758832 -0.546536  0.266903  0.872992 -1.240190 -0.429923 -0.201452   \n",
       "1 -0.846030 -0.546536  0.266903  0.872992 -1.240190 -0.429923 -0.201452   \n",
       "2 -0.311076 -0.546536  0.266903 -1.145486  0.806328 -0.429923 -0.201452   \n",
       "3  1.293786  1.829707  0.266903 -1.145486  0.806328  2.325996  4.963973   \n",
       "4  0.223878 -0.546536  0.266903  0.872992  0.806328 -0.429923 -0.201452   \n",
       "\n",
       "         11        12        13  \n",
       "0  0.540361 -0.253764  1.038750  \n",
       "1 -1.850616 -0.253764 -0.962695  \n",
       "2 -1.850616 -0.253764  1.038750  \n",
       "3  0.540361 -0.253764  1.038750  \n",
       "4  0.540361 -0.253764  1.038750  "
      ]
     },
     "execution_count": 49,
     "metadata": {},
     "output_type": "execute_result"
    }
   ],
   "source": [
    "X_df = pd.concat([ethnicity_df, numeric_df], axis = 1)\n",
    "X_df.head()"
   ]
  },
  {
   "cell_type": "markdown",
   "metadata": {},
   "source": [
    "#### Correlation heatmap"
   ]
  },
  {
   "cell_type": "code",
   "execution_count": 50,
   "metadata": {},
   "outputs": [
    {
     "data": {
      "text/plain": [
       "<AxesSubplot:>"
      ]
     },
     "execution_count": 50,
     "metadata": {},
     "output_type": "execute_result"
    },
    {
     "data": {
      "image/png": "[encoded data removed]",
      "text/plain": [
       "<Figure size 432x288 with 2 Axes>"
      ]
     },
     "metadata": {
      "needs_background": "light"
     },
     "output_type": "display_data"
    }
   ],
   "source": [
    "sb.heatmap(X_df.corr(), cmap=\"YlGnBu\")"
   ]
  },
  {
   "cell_type": "code",
   "execution_count": 51,
   "metadata": {},
   "outputs": [],
   "source": [
    "X_df = X_df.drop(X_df.columns[9], axis = 1) #drop CountOfDisablingConditions as it shows high correlation with others"
   ]
  },
  {
   "cell_type": "code",
   "execution_count": 52,
   "metadata": {},
   "outputs": [
    {
     "data": {
      "text/plain": [
       "<AxesSubplot:>"
      ]
     },
     "execution_count": 52,
     "metadata": {},
     "output_type": "execute_result"
    },
    {
     "data": {
      "image/png": "[encoded data removed]",
      "text/plain": [
       "<Figure size 432x288 with 2 Axes>"
      ]
     },
     "metadata": {
      "needs_background": "light"
     },
     "output_type": "display_data"
    }
   ],
   "source": [
    "sb.heatmap(X_df.corr(), cmap=\"YlGnBu\")"
   ]
  },
  {
   "cell_type": "markdown",
   "metadata": {},
   "source": [
    "#### Analyze y"
   ]
  },
  {
   "cell_type": "code",
   "execution_count": 53,
   "metadata": {},
   "outputs": [
    {
     "data": {
      "text/plain": [
       "<AxesSubplot:xlabel='ScoreTotal', ylabel='count'>"
      ]
     },
     "execution_count": 53,
     "metadata": {},
     "output_type": "execute_result"
    },
    {
     "data": {
      "image/png": "[encoded data removed]",
      "text/plain": [
       "<Figure size 432x288 with 1 Axes>"
      ]
     },
     "metadata": {
      "needs_background": "light"
     },
     "output_type": "display_data"
    }
   ],
   "source": [
    "sb.countplot( x= 'ScoreTotal', data=df, palette='hls')"
   ]
  },
  {
   "cell_type": "markdown",
   "metadata": {},
   "source": [
    "#### Split training and test data"
   ]
  },
  {
   "cell_type": "code",
   "execution_count": 54,
   "metadata": {},
   "outputs": [],
   "source": [
    "X_train, X_test, y_train, y_test = train_test_split(X_df.fillna(0), y, test_size=0.6, random_state=0)"
   ]
  },
  {
   "cell_type": "code",
   "execution_count": 55,
   "metadata": {},
   "outputs": [
    {
     "data": {
      "text/html": [
       "<div>\n",
       "<style scoped>\n",
       "    .dataframe tbody tr th:only-of-type {\n",
       "        vertical-align: middle;\n",
       "    }\n",
       "\n",
       "    .dataframe tbody tr th {\n",
       "        vertical-align: top;\n",
       "    }\n",
       "\n",
       "    .dataframe thead th {\n",
       "        text-align: right;\n",
       "    }\n",
       "</style>\n",
       "<table border=\"1\" class=\"dataframe\">\n",
       "  <thead>\n",
       "    <tr style=\"text-align: right;\">\n",
       "      <th></th>\n",
       "      <th>x0_8</th>\n",
       "      <th>x0_9</th>\n",
       "      <th>x0_99</th>\n",
       "      <th>x0_H</th>\n",
       "      <th>x0_O</th>\n",
       "      <th>0</th>\n",
       "      <th>1</th>\n",
       "      <th>2</th>\n",
       "      <th>3</th>\n",
       "      <th>5</th>\n",
       "      <th>6</th>\n",
       "      <th>7</th>\n",
       "      <th>8</th>\n",
       "      <th>9</th>\n",
       "      <th>10</th>\n",
       "      <th>11</th>\n",
       "      <th>12</th>\n",
       "      <th>13</th>\n",
       "    </tr>\n",
       "  </thead>\n",
       "  <tbody>\n",
       "    <tr>\n",
       "      <th>count</th>\n",
       "      <td>800.000000</td>\n",
       "      <td>800.000000</td>\n",
       "      <td>800.000000</td>\n",
       "      <td>800.000000</td>\n",
       "      <td>800.000000</td>\n",
       "      <td>800.000000</td>\n",
       "      <td>800.000000</td>\n",
       "      <td>800.000000</td>\n",
       "      <td>800.000000</td>\n",
       "      <td>800.000000</td>\n",
       "      <td>800.000000</td>\n",
       "      <td>800.000000</td>\n",
       "      <td>800.000000</td>\n",
       "      <td>800.000000</td>\n",
       "      <td>800.000000</td>\n",
       "      <td>800.000000</td>\n",
       "      <td>800.000000</td>\n",
       "      <td>800.000000</td>\n",
       "    </tr>\n",
       "    <tr>\n",
       "      <th>mean</th>\n",
       "      <td>0.003750</td>\n",
       "      <td>0.003750</td>\n",
       "      <td>0.010000</td>\n",
       "      <td>0.022500</td>\n",
       "      <td>0.960000</td>\n",
       "      <td>0.013823</td>\n",
       "      <td>0.005403</td>\n",
       "      <td>0.009026</td>\n",
       "      <td>-0.013184</td>\n",
       "      <td>0.008911</td>\n",
       "      <td>-0.004014</td>\n",
       "      <td>-0.002523</td>\n",
       "      <td>-0.017395</td>\n",
       "      <td>0.014469</td>\n",
       "      <td>-0.007748</td>\n",
       "      <td>-0.003586</td>\n",
       "      <td>0.024118</td>\n",
       "      <td>0.003002</td>\n",
       "    </tr>\n",
       "    <tr>\n",
       "      <th>std</th>\n",
       "      <td>0.061161</td>\n",
       "      <td>0.061161</td>\n",
       "      <td>0.099561</td>\n",
       "      <td>0.148396</td>\n",
       "      <td>0.196082</td>\n",
       "      <td>1.012599</td>\n",
       "      <td>0.990394</td>\n",
       "      <td>0.999896</td>\n",
       "      <td>1.007908</td>\n",
       "      <td>1.006291</td>\n",
       "      <td>1.007581</td>\n",
       "      <td>1.000966</td>\n",
       "      <td>1.004244</td>\n",
       "      <td>1.014155</td>\n",
       "      <td>0.981960</td>\n",
       "      <td>1.002967</td>\n",
       "      <td>1.043888</td>\n",
       "      <td>1.000735</td>\n",
       "    </tr>\n",
       "    <tr>\n",
       "      <th>min</th>\n",
       "      <td>0.000000</td>\n",
       "      <td>0.000000</td>\n",
       "      <td>0.000000</td>\n",
       "      <td>0.000000</td>\n",
       "      <td>0.000000</td>\n",
       "      <td>-2.516383</td>\n",
       "      <td>-0.151283</td>\n",
       "      <td>-1.079121</td>\n",
       "      <td>-1.707013</td>\n",
       "      <td>-0.546536</td>\n",
       "      <td>-3.746678</td>\n",
       "      <td>-1.145486</td>\n",
       "      <td>-1.240190</td>\n",
       "      <td>-0.429923</td>\n",
       "      <td>-0.201452</td>\n",
       "      <td>-1.850616</td>\n",
       "      <td>-0.253764</td>\n",
       "      <td>-0.962695</td>\n",
       "    </tr>\n",
       "    <tr>\n",
       "      <th>25%</th>\n",
       "      <td>0.000000</td>\n",
       "      <td>0.000000</td>\n",
       "      <td>0.000000</td>\n",
       "      <td>0.000000</td>\n",
       "      <td>1.000000</td>\n",
       "      <td>-0.720110</td>\n",
       "      <td>-0.151283</td>\n",
       "      <td>-1.079121</td>\n",
       "      <td>-1.707013</td>\n",
       "      <td>-0.546536</td>\n",
       "      <td>0.266903</td>\n",
       "      <td>-1.145486</td>\n",
       "      <td>-1.240190</td>\n",
       "      <td>-0.429923</td>\n",
       "      <td>-0.201452</td>\n",
       "      <td>0.540361</td>\n",
       "      <td>-0.253764</td>\n",
       "      <td>-0.962695</td>\n",
       "    </tr>\n",
       "    <tr>\n",
       "      <th>50%</th>\n",
       "      <td>0.000000</td>\n",
       "      <td>0.000000</td>\n",
       "      <td>0.000000</td>\n",
       "      <td>0.000000</td>\n",
       "      <td>1.000000</td>\n",
       "      <td>0.217076</td>\n",
       "      <td>-0.151283</td>\n",
       "      <td>0.926680</td>\n",
       "      <td>0.585819</td>\n",
       "      <td>-0.546536</td>\n",
       "      <td>0.266903</td>\n",
       "      <td>0.872992</td>\n",
       "      <td>0.806328</td>\n",
       "      <td>-0.429923</td>\n",
       "      <td>-0.201452</td>\n",
       "      <td>0.540361</td>\n",
       "      <td>-0.253764</td>\n",
       "      <td>-0.962695</td>\n",
       "    </tr>\n",
       "    <tr>\n",
       "      <th>75%</th>\n",
       "      <td>0.000000</td>\n",
       "      <td>0.000000</td>\n",
       "      <td>0.000000</td>\n",
       "      <td>0.000000</td>\n",
       "      <td>1.000000</td>\n",
       "      <td>0.841866</td>\n",
       "      <td>-0.151283</td>\n",
       "      <td>0.926680</td>\n",
       "      <td>0.585819</td>\n",
       "      <td>-0.546536</td>\n",
       "      <td>0.266903</td>\n",
       "      <td>0.872992</td>\n",
       "      <td>0.806328</td>\n",
       "      <td>-0.429923</td>\n",
       "      <td>-0.201452</td>\n",
       "      <td>0.540361</td>\n",
       "      <td>-0.253764</td>\n",
       "      <td>1.038750</td>\n",
       "    </tr>\n",
       "    <tr>\n",
       "      <th>max</th>\n",
       "      <td>1.000000</td>\n",
       "      <td>1.000000</td>\n",
       "      <td>1.000000</td>\n",
       "      <td>1.000000</td>\n",
       "      <td>1.000000</td>\n",
       "      <td>2.560040</td>\n",
       "      <td>8.493452</td>\n",
       "      <td>0.926680</td>\n",
       "      <td>0.585819</td>\n",
       "      <td>1.829707</td>\n",
       "      <td>0.266903</td>\n",
       "      <td>0.872992</td>\n",
       "      <td>0.806328</td>\n",
       "      <td>2.325996</td>\n",
       "      <td>4.963973</td>\n",
       "      <td>0.540361</td>\n",
       "      <td>3.940676</td>\n",
       "      <td>1.038750</td>\n",
       "    </tr>\n",
       "  </tbody>\n",
       "</table>\n",
       "</div>"
      ],
      "text/plain": [
       "             x0_8        x0_9       x0_99        x0_H        x0_O           0  \\\n",
       "count  800.000000  800.000000  800.000000  800.000000  800.000000  800.000000   \n",
       "mean     0.003750    0.003750    0.010000    0.022500    0.960000    0.013823   \n",
       "std      0.061161    0.061161    0.099561    0.148396    0.196082    1.012599   \n",
       "min      0.000000    0.000000    0.000000    0.000000    0.000000   -2.516383   \n",
       "25%      0.000000    0.000000    0.000000    0.000000    1.000000   -0.720110   \n",
       "50%      0.000000    0.000000    0.000000    0.000000    1.000000    0.217076   \n",
       "75%      0.000000    0.000000    0.000000    0.000000    1.000000    0.841866   \n",
       "max      1.000000    1.000000    1.000000    1.000000    1.000000    2.560040   \n",
       "\n",
       "                1           2           3           5           6           7  \\\n",
       "count  800.000000  800.000000  800.000000  800.000000  800.000000  800.000000   \n",
       "mean     0.005403    0.009026   -0.013184    0.008911   -0.004014   -0.002523   \n",
       "std      0.990394    0.999896    1.007908    1.006291    1.007581    1.000966   \n",
       "min     -0.151283   -1.079121   -1.707013   -0.546536   -3.746678   -1.145486   \n",
       "25%     -0.151283   -1.079121   -1.707013   -0.546536    0.266903   -1.145486   \n",
       "50%     -0.151283    0.926680    0.585819   -0.546536    0.266903    0.872992   \n",
       "75%     -0.151283    0.926680    0.585819   -0.546536    0.266903    0.872992   \n",
       "max      8.493452    0.926680    0.585819    1.829707    0.266903    0.872992   \n",
       "\n",
       "                8           9          10          11          12          13  \n",
       "count  800.000000  800.000000  800.000000  800.000000  800.000000  800.000000  \n",
       "mean    -0.017395    0.014469   -0.007748   -0.003586    0.024118    0.003002  \n",
       "std      1.004244    1.014155    0.981960    1.002967    1.043888    1.000735  \n",
       "min     -1.240190   -0.429923   -0.201452   -1.850616   -0.253764   -0.962695  \n",
       "25%     -1.240190   -0.429923   -0.201452    0.540361   -0.253764   -0.962695  \n",
       "50%      0.806328   -0.429923   -0.201452    0.540361   -0.253764   -0.962695  \n",
       "75%      0.806328   -0.429923   -0.201452    0.540361   -0.253764    1.038750  \n",
       "max      0.806328    2.325996    4.963973    0.540361    3.940676    1.038750  "
      ]
     },
     "execution_count": 55,
     "metadata": {},
     "output_type": "execute_result"
    }
   ],
   "source": [
    "X_train.describe()"
   ]
  },
  {
   "cell_type": "code",
   "execution_count": 56,
   "metadata": {},
   "outputs": [
    {
     "data": {
      "text/plain": [
       "count    800.000000\n",
       "mean       9.330000\n",
       "std        3.420266\n",
       "min        4.000000\n",
       "25%        7.000000\n",
       "50%        9.000000\n",
       "75%       12.000000\n",
       "max       16.000000\n",
       "Name: ScoreTotal, dtype: float64"
      ]
     },
     "execution_count": 56,
     "metadata": {},
     "output_type": "execute_result"
    }
   ],
   "source": [
    "y_train.describe()"
   ]
  },
  {
   "cell_type": "code",
   "execution_count": 57,
   "metadata": {},
   "outputs": [
    {
     "name": "stdout",
     "output_type": "stream",
     "text": [
      "(800, 18)\n",
      "(800,)\n"
     ]
    }
   ],
   "source": [
    "print(X_train.shape)\n",
    "print(y_train.shape)"
   ]
  },
  {
   "cell_type": "markdown",
   "metadata": {},
   "source": [
    "#### Train model: Ordinal Logistic regression using LogisticAT (All-Threshold variant) \n",
    "###### Ref: https://pythonhosted.org/mord/reference.html#mord.LogisticAT "
   ]
  },
  {
   "cell_type": "code",
   "execution_count": 58,
   "metadata": {},
   "outputs": [],
   "source": [
    "#!pip3 install mord   "
   ]
  },
  {
   "cell_type": "code",
   "execution_count": 59,
   "metadata": {},
   "outputs": [],
   "source": [
    "#https://medium.datadriveninvestor.com/logistic-regression-simple-multinomial-and-ordinal-b2bc886bb974 \n",
    "import mord\n",
    "from mord import LogisticAT\n",
    "\n",
    "regressor = LogisticAT(alpha=1.0, verbose=0)\n",
    "regressor.fit(X_train, y_train)\n",
    "y_predict = regressor.predict(X_test)"
   ]
  },
  {
   "cell_type": "code",
   "execution_count": 60,
   "metadata": {},
   "outputs": [
    {
     "name": "stdout",
     "output_type": "stream",
     "text": [
      "Training accuracy: -2.5075\n",
      "Test accuracy: -2.445\n",
      "Recall: 0.13166666666666665\n",
      "Precision: 0.13166666666666665\n",
      "F1 Score: 0.13166666666666665\n",
      "Accuracy Score: 0.13166666666666665\n"
     ]
    }
   ],
   "source": [
    "print('Training accuracy:', regressor.score(X_train, y_train))\n",
    "print('Test accuracy:', regressor.score(X_test, y_test))\n",
    "\n",
    "print(\"Recall:\",recall_score(y_test,y_predict, average='micro'))\n",
    "print(\"Precision:\",precision_score(y_test,y_predict, average='micro'))\n",
    "print(\"F1 Score:\",f1_score(y_test,y_predict, average='micro'))\n",
    "print(\"Accuracy Score:\", accuracy_score(y_test,y_predict))"
   ]
  },
  {
   "cell_type": "code",
   "execution_count": 61,
   "metadata": {},
   "outputs": [
    {
     "data": {
      "text/plain": [
       "<sklearn.metrics._plot.confusion_matrix.ConfusionMatrixDisplay at 0xeab8f88>"
      ]
     },
     "execution_count": 61,
     "metadata": {},
     "output_type": "execute_result"
    },
    {
     "data": {
      "image/png": "[encoded data removed]",
      "text/plain": [
       "<Figure size 432x288 with 2 Axes>"
      ]
     },
     "metadata": {
      "needs_background": "light"
     },
     "output_type": "display_data"
    }
   ],
   "source": [
    "cm = confusion_matrix(y_test, y_predict)\n",
    "cmd_obj = ConfusionMatrixDisplay(cm, display_labels = [4,5,6,7,8,9,10,11,12,13,14,15,16])\n",
    "cmd_obj.plot()"
   ]
  }
 ],
 "metadata": {
  "kernelspec": {
   "display_name": "Python 3",
   "language": "python",
   "name": "python3"
  },
  "language_info": {
   "codemirror_mode": {
    "name": "ipython",
    "version": 3
   },
   "file_extension": ".py",
   "mimetype": "text/x-python",
   "name": "python",
   "nbconvert_exporter": "python",
   "pygments_lexer": "ipython3",
   "version": "3.8.2"
  }
 },
 "nbformat": 4,
 "nbformat_minor": 2
}
